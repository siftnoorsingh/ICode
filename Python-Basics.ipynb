{
 "cells": [
  {
   "cell_type": "code",
   "execution_count": 5,
   "metadata": {
    "collapsed": false
   },
   "outputs": [
    {
     "name": "stdout",
     "output_type": "stream",
     "text": [
      "9\n",
      "word\n",
      "<type 'float'>\n"
     ]
    }
   ],
   "source": [
    "# Variables(This is a comment)\n",
    "integers = 9\n",
    "strings = \"This is Hello World.\"\n",
    "floats = 0.25\n",
    "print integers\n",
    "print \"word\"\n",
    "print(type(floats))"
   ]
  },
  {
   "cell_type": "code",
   "execution_count": 6,
   "metadata": {
    "collapsed": true
   },
   "outputs": [],
   "source": [
    "# Converting types\n",
    "int_to_string = str(9)\n",
    "string_to_int = int(\"10\")"
   ]
  },
  {
   "cell_type": "code",
   "execution_count": 7,
   "metadata": {
    "collapsed": false
   },
   "outputs": [
    {
     "name": "stdout",
     "output_type": "stream",
     "text": [
      "<type 'list'>\n",
      "[0, 1, 2, 3, 4, 5]\n",
      "[1, 'January', 2.0]\n"
     ]
    },
    {
     "data": {
      "text/plain": [
       "['January', 'February']"
      ]
     },
     "execution_count": 7,
     "metadata": {},
     "output_type": "execute_result"
    }
   ],
   "source": [
    "# Lists\n",
    "lists = []\n",
    "str_lists = [\"March\",\"April\"]\n",
    "lists.append(\"January\")\n",
    "lists.append(\"February\")\n",
    "print type(lists)\n",
    "int_lists = [0,1,2,3,4,5]\n",
    "print int_lists\n",
    "varied_lists = [1,\"January\",2.0]\n",
    "print varied_lists\n",
    "lists"
   ]
  },
  {
   "cell_type": "code",
   "execution_count": 8,
   "metadata": {
    "collapsed": false
   },
   "outputs": [
    {
     "data": {
      "text/plain": [
       "'January'"
      ]
     },
     "execution_count": 8,
     "metadata": {},
     "output_type": "execute_result"
    }
   ],
   "source": [
    "# List Index\n",
    "second_value = varied_lists[1]\n",
    "second_value"
   ]
  },
  {
   "cell_type": "code",
   "execution_count": 9,
   "metadata": {
    "collapsed": false
   },
   "outputs": [
    {
     "name": "stdout",
     "output_type": "stream",
     "text": [
      "2.0\n"
     ]
    },
    {
     "data": {
      "text/plain": [
       "3"
      ]
     },
     "execution_count": 9,
     "metadata": {},
     "output_type": "execute_result"
    }
   ],
   "source": [
    "# List Length\n",
    "length_lists = len(varied_lists)\n",
    "last_value = varied_lists[length_lists-1]\n",
    "print last_value\n",
    "length_lists"
   ]
  },
  {
   "cell_type": "code",
   "execution_count": 10,
   "metadata": {
    "collapsed": false
   },
   "outputs": [
    {
     "name": "stdout",
     "output_type": "stream",
     "text": [
      "[2, 3]\n",
      "[0, 1, 2]\n",
      "[2, 3, 4, 5]\n"
     ]
    }
   ],
   "source": [
    "# List Slicing\n",
    "sliced_list = int_lists[2:4]\n",
    "sliced_list_1 = int_lists[:3]\n",
    "sliced_list_2 = int_lists[2:]\n",
    "print sliced_list\n",
    "print sliced_list_1\n",
    "print sliced_list_2"
   ]
  },
  {
   "cell_type": "code",
   "execution_count": 11,
   "metadata": {
    "collapsed": false
   },
   "outputs": [],
   "source": [
    "# Opening Files\n",
    "# f_text = open(\"new.txt\",\"r\")\n",
    "# f_csv = open(\"new.csv\",\"r\")\n",
    "\n",
    "# Reading Files\n",
    "# f_data = f_text.read()\n",
    "# print (f_data)"
   ]
  },
  {
   "cell_type": "code",
   "execution_count": 12,
   "metadata": {
    "collapsed": false
   },
   "outputs": [
    {
     "data": {
      "text/plain": [
       "['a', 'b', 'c']"
      ]
     },
     "execution_count": 12,
     "metadata": {},
     "output_type": "execute_result"
    }
   ],
   "source": [
    "# Splitting\n",
    "sample = \"a,b,c\"\n",
    "split_list = sample.split(\",\")\n",
    "split_list"
   ]
  },
  {
   "cell_type": "code",
   "execution_count": 13,
   "metadata": {
    "collapsed": false
   },
   "outputs": [
    {
     "name": "stdout",
     "output_type": "stream",
     "text": [
      "a\n",
      "b\n",
      "c\n"
     ]
    }
   ],
   "source": [
    "# for loops\n",
    "for s in split_list:\n",
    "    print s"
   ]
  },
  {
   "cell_type": "code",
   "execution_count": 14,
   "metadata": {
    "collapsed": false
   },
   "outputs": [
    {
     "data": {
      "text/plain": [
       "[['a', '1'], ['b', '2'], ['c', '3']]"
      ]
     },
     "execution_count": 14,
     "metadata": {},
     "output_type": "execute_result"
    }
   ],
   "source": [
    "# List of Lists\n",
    "single_list = [\"a,1\",\"b,2\",\"c,3\"]\n",
    "list_of_lists = []\n",
    "for row in single_list:\n",
    "    split_list = row.split(\",\")\n",
    "    list_of_lists.append(split_list) \n",
    "list_of_lists"
   ]
  },
  {
   "cell_type": "code",
   "execution_count": 15,
   "metadata": {
    "collapsed": false
   },
   "outputs": [
    {
     "name": "stdout",
     "output_type": "stream",
     "text": [
      "a\n",
      "1\n",
      "b\n"
     ]
    }
   ],
   "source": [
    "# Accessing list of list elements\n",
    "first_list_first_val = list_of_lists[0][0]\n",
    "print first_list_first_val\n",
    "first_list_second_val = list_of_lists[0][1]\n",
    "print first_list_second_val\n",
    "second_list_first_val = list_of_lists[1][0]\n",
    "print second_list_first_val"
   ]
  },
  {
   "cell_type": "code",
   "execution_count": 16,
   "metadata": {
    "collapsed": false
   },
   "outputs": [
    {
     "data": {
      "text/plain": [
       "['1', '2', '3']"
      ]
     },
     "execution_count": 16,
     "metadata": {},
     "output_type": "execute_result"
    }
   ],
   "source": [
    "# Looping list of lists\n",
    "numbers = []\n",
    "for row in list_of_lists:\n",
    "    number = row[1]\n",
    "    numbers.append(number)\n",
    "numbers"
   ]
  },
  {
   "cell_type": "code",
   "execution_count": 17,
   "metadata": {
    "collapsed": false
   },
   "outputs": [
    {
     "name": "stdout",
     "output_type": "stream",
     "text": [
      "<type 'bool'>\n",
      "False\n",
      "True\n"
     ]
    }
   ],
   "source": [
    "# Booleans\n",
    "var_true = True\n",
    "var_false = False\n",
    "print type(var_true)\n",
    "check_one = (var_true == var_false)\n",
    "check_two = (var_true != var_false)\n",
    "print check_one\n",
    "print check_two"
   ]
  },
  {
   "cell_type": "code",
   "execution_count": 22,
   "metadata": {
    "collapsed": false
   },
   "outputs": [
    {
     "name": "stdout",
     "output_type": "stream",
     "text": [
      "True\n",
      "False\n",
      "False\n"
     ]
    }
   ],
   "source": [
    "# Booleans Less Than/Greater Than\n",
    "int_lists = [0, 1, 2, 3, 4, 5]\n",
    "print (int_lists[1]<int_lists[4])\n",
    "print (int_lists[1]>int_lists[4])\n",
    "first_last = int_lists[0]>=int_lists[len(int_lists)-1]\n",
    "print first_last"
   ]
  },
  {
   "cell_type": "code",
   "execution_count": 30,
   "metadata": {
    "collapsed": false
   },
   "outputs": [
    {
     "name": "stdout",
     "output_type": "stream",
     "text": [
      "It is greater\n"
     ]
    }
   ],
   "source": [
    "# If statements\n",
    "sample = 6\n",
    "if_greater = (sample > 5)\n",
    "if_smaller = (sample < 5)\n",
    "if if_greater:\n",
    "    print \"It is greater\"\n",
    "elif if_smaller:\n",
    "    print \"It is smaller\"\n",
    "else:\n",
    "    print \"It's equal\""
   ]
  },
  {
   "cell_type": "code",
   "execution_count": 34,
   "metadata": {
    "collapsed": false
   },
   "outputs": [
    {
     "name": "stdout",
     "output_type": "stream",
     "text": [
      "5\n"
     ]
    }
   ],
   "source": [
    "# If statements and for loops\n",
    "int_lists_2 = [0,1,2,3,4,5,3,4]\n",
    "max_num = 1\n",
    "for num in int_lists_2:\n",
    "    if num > max_num:\n",
    "        max_num = num\n",
    "print max_num"
   ]
  },
  {
   "cell_type": "code",
   "execution_count": 38,
   "metadata": {
    "collapsed": false
   },
   "outputs": [
    {
     "name": "stdout",
     "output_type": "stream",
     "text": [
      "True\n",
      "True\n"
     ]
    }
   ],
   "source": [
    "# In statement\n",
    "one_found = 1 in int_lists\n",
    "print one_found\n",
    "word_found = \"January\" in lists\n",
    "print word_found"
   ]
  },
  {
   "cell_type": "code",
   "execution_count": 43,
   "metadata": {
    "collapsed": false
   },
   "outputs": [
    {
     "name": "stdout",
     "output_type": "stream",
     "text": [
      "[False, True, True, True, True]\n",
      "[True, True, True, True]\n"
     ]
    }
   ],
   "source": [
    "# List of booleans\n",
    "months = [\"Jan\",\"Feb\",\"Mar\",\"April\"]\n",
    "new_months = [\"Month Type\",\"Jan\",\"Feb\",\"Mar\",\"April\"]\n",
    "months_found = []\n",
    "new_months_found = []\n",
    "for month in new_months:\n",
    "    new_months_found.append(month in months)\n",
    "print new_months_found\n",
    "for month in months:\n",
    "    months_found.append(month in new_months)\n",
    "print months_found"
   ]
  },
  {
   "cell_type": "code",
   "execution_count": 49,
   "metadata": {
    "collapsed": false
   },
   "outputs": [
    {
     "name": "stdout",
     "output_type": "stream",
     "text": [
      "{'three': 3, 'two': 2, 'one': 1}\n",
      "{'four': 4, 'seven': 5, 'six': 6, 'five': 5}\n",
      "1\n",
      "{'four': 4, 'seven': 7, 'six': 6, 'five': 5}\n"
     ]
    }
   ],
   "source": [
    "# Dictionaries\n",
    "dicts = {}\n",
    "dicts_1 = {\"four\":4,\"five\":5,\"six\":6}\n",
    "dicts[\"one\"] = 1\n",
    "dicts[\"two\"] = 2\n",
    "dicts[\"three\"] = 3\n",
    "rank_one = dicts[\"one\"]\n",
    "dicts_1[\"seven\"] = 5\n",
    "print dicts\n",
    "print dicts_1\n",
    "print rank_one\n",
    "dicts_1[\"seven\"] += 2\n",
    "print dicts_1"
   ]
  },
  {
   "cell_type": "code",
   "execution_count": 52,
   "metadata": {
    "collapsed": false
   },
   "outputs": [
    {
     "name": "stdout",
     "output_type": "stream",
     "text": [
      "True\n",
      "False\n"
     ]
    }
   ],
   "source": [
    "# In statements and Dictionaries\n",
    "num_found = \"one\" in dicts\n",
    "print num_found\n",
    "num_found_2 = \"five\" in dicts\n",
    "print num_found_2"
   ]
  },
  {
   "cell_type": "code",
   "execution_count": 57,
   "metadata": {
    "collapsed": false
   },
   "outputs": [
    {
     "name": "stdout",
     "output_type": "stream",
     "text": [
      "['three']\n",
      "['two', 'one']\n"
     ]
    }
   ],
   "source": [
    "# Else statement\n",
    "len_four = []\n",
    "len_three = []\n",
    "for num in dicts:\n",
    "    if len(num) > 3:\n",
    "        len_four.append(num)\n",
    "    else:\n",
    "        len_three.append(num)\n",
    "print len_four\n",
    "print len_three"
   ]
  },
  {
   "cell_type": "code",
   "execution_count": 59,
   "metadata": {
    "collapsed": false
   },
   "outputs": [
    {
     "data": {
      "text/plain": [
       "{'one': 1, 'three': 3, 'two': 2}"
      ]
     },
     "execution_count": 59,
     "metadata": {},
     "output_type": "execute_result"
    }
   ],
   "source": [
    "# Counting with Dictionaries\n",
    "mult_nums = [\"three\",\"one\",\"two\",\"three\",\"two\",\"three\"]\n",
    "num_count = {}\n",
    "for num in mult_nums:\n",
    "    if num in num_count:\n",
    "        num_count[num] += 1\n",
    "    else:\n",
    "        num_count[num] = 1\n",
    "num_count"
   ]
  },
  {
   "cell_type": "code",
   "execution_count": 61,
   "metadata": {
    "collapsed": false
   },
   "outputs": [
    {
     "data": {
      "text/plain": [
       "'capital'"
      ]
     },
     "execution_count": 61,
     "metadata": {},
     "output_type": "execute_result"
    }
   ],
   "source": [
    "# Functions\n",
    "def lowercase(word):\n",
    "    word = word.lower()\n",
    "    return word\n",
    "\n",
    "lower_word = lowercase(\"CAPITAL\")\n",
    "lower_word"
   ]
  },
  {
   "cell_type": "code",
   "execution_count": 66,
   "metadata": {
    "collapsed": false
   },
   "outputs": [
    {
     "name": "stdout",
     "output_type": "stream",
     "text": [
      "('UPPERCASE', 'lowercase')\n",
      "lowercase\n",
      "UPPERCASE\n",
      "lowercase\n"
     ]
    }
   ],
   "source": [
    "# Functions with multiple arguments\n",
    "def word_modify(lowercase,uppercase):\n",
    "    upper_word = uppercase.upper()\n",
    "    lower_word = lowercase.lower()\n",
    "    return upper_word,lower_word\n",
    "\n",
    "mod_words = word_modify(\"lowercase\",\"UPPERCASE\")\n",
    "print mod_words\n",
    "print mod_words[1]\n",
    "mod_word_upper,mod_word_lower = word_modify(\"lowercase\",\"UPPERCASE\")\n",
    "print mod_word_upper\n",
    "print mod_word_lower"
   ]
  },
  {
   "cell_type": "code",
   "execution_count": null,
   "metadata": {
    "collapsed": true
   },
   "outputs": [],
   "source": []
  }
 ],
 "metadata": {
  "kernelspec": {
   "display_name": "Python 2",
   "language": "python",
   "name": "python2"
  },
  "language_info": {
   "codemirror_mode": {
    "name": "ipython",
    "version": 2
   },
   "file_extension": ".py",
   "mimetype": "text/x-python",
   "name": "python",
   "nbconvert_exporter": "python",
   "pygments_lexer": "ipython2",
   "version": "2.7.10"
  }
 },
 "nbformat": 4,
 "nbformat_minor": 0
}
